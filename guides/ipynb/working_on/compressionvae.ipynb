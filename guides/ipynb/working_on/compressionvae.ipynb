{
 "cells": [
  {
   "cell_type": "code",
   "execution_count": 1,
   "metadata": {
    "collapsed": true
   },
   "outputs": [
    {
     "name": "stdout",
     "output_type": "stream",
     "text": [
      "Collecting cvae\r\n",
      "  Downloading cvae-0.0.3-py3-none-any.whl (24 kB)\r\n",
      "Requirement already satisfied: numpy in /shared/ds/apps/anaconda3/envs/nv_tf_gpu/lib/python3.7/site-packages (from cvae) (1.18.1)\r\n",
      "Requirement already satisfied: matplotlib in /shared/ds/apps/anaconda3/envs/nv_tf_gpu/lib/python3.7/site-packages (from cvae) (3.2.2)\r\n",
      "Requirement already satisfied: joblib in /shared/ds/apps/anaconda3/envs/nv_tf_gpu/lib/python3.7/site-packages (from cvae) (0.14.1)\r\n",
      "Requirement already satisfied: tqdm in /shared/ds/apps/anaconda3/envs/nv_tf_gpu/lib/python3.7/site-packages (from cvae) (4.44.1)\r\n",
      "Collecting tensorflow<2,>=1\r\n",
      "  Downloading tensorflow-1.15.5-cp37-cp37m-manylinux2010_x86_64.whl (110.5 MB)\r\n",
      "\u001B[K     |████████████████████████████████| 110.5 MB 29.9 MB/s eta 0:00:01  |▏                               | 634 kB 1.6 MB/s eta 0:01:11     |███████████████████████████▌    | 95.2 MB 8.1 MB/s eta 0:00:02     |████████████████████████████▏   | 97.4 MB 8.1 MB/s eta 0:00:02\r\n",
      "\u001B[?25hRequirement already satisfied: cycler>=0.10 in /home/u796762/.local/lib/python3.7/site-packages (from matplotlib->cvae) (0.10.0)\r\n",
      "Requirement already satisfied: python-dateutil>=2.1 in /shared/ds/apps/anaconda3/envs/nv_tf_gpu/lib/python3.7/site-packages (from matplotlib->cvae) (2.8.1)\r\n",
      "Requirement already satisfied: kiwisolver>=1.0.1 in /home/u796762/.local/lib/python3.7/site-packages (from matplotlib->cvae) (1.1.0)\r\n",
      "Requirement already satisfied: pyparsing!=2.0.4,!=2.1.2,!=2.1.6,>=2.0.1 in /home/u796762/.local/lib/python3.7/site-packages (from matplotlib->cvae) (2.4.6)\r\n",
      "Requirement already satisfied: wheel>=0.26; python_version >= \"3\" in /shared/ds/apps/anaconda3/envs/nv_tf_gpu/lib/python3.7/site-packages (from tensorflow<2,>=1->cvae) (0.34.2)\r\n",
      "Requirement already satisfied: grpcio>=1.8.6 in /shared/ds/apps/anaconda3/envs/nv_tf_gpu/lib/python3.7/site-packages (from tensorflow<2,>=1->cvae) (1.16.1)\r\n",
      "Requirement already satisfied: opt-einsum>=2.3.2 in /shared/ds/apps/anaconda3/envs/nv_tf_gpu/lib/python3.7/site-packages (from tensorflow<2,>=1->cvae) (3.1.0)\r\n",
      "Requirement already satisfied: six>=1.10.0 in /shared/ds/apps/anaconda3/envs/nv_tf_gpu/lib/python3.7/site-packages (from tensorflow<2,>=1->cvae) (1.14.0)\r\n",
      "Collecting tensorboard<1.16.0,>=1.15.0\r\n",
      "  Downloading tensorboard-1.15.0-py3-none-any.whl (3.8 MB)\r\n",
      "\u001B[K     |████████████████████████████████| 3.8 MB 100.1 MB/s eta 0:00:01\r\n",
      "\u001B[?25hRequirement already satisfied: astor>=0.6.0 in /shared/ds/apps/anaconda3/envs/nv_tf_gpu/lib/python3.7/site-packages (from tensorflow<2,>=1->cvae) (0.8.0)\r\n",
      "Requirement already satisfied: wrapt>=1.11.1 in /shared/ds/apps/anaconda3/envs/nv_tf_gpu/lib/python3.7/site-packages (from tensorflow<2,>=1->cvae) (1.11.2)\r\n",
      "Requirement already satisfied: termcolor>=1.1.0 in /shared/ds/apps/anaconda3/envs/nv_tf_gpu/lib/python3.7/site-packages (from tensorflow<2,>=1->cvae) (1.1.0)\r\n",
      "Requirement already satisfied: keras-applications>=1.0.8 in /shared/ds/apps/anaconda3/envs/nv_tf_gpu/lib/python3.7/site-packages (from tensorflow<2,>=1->cvae) (1.0.8)\r\n",
      "Requirement already satisfied: google-pasta>=0.1.6 in /shared/ds/apps/anaconda3/envs/nv_tf_gpu/lib/python3.7/site-packages (from tensorflow<2,>=1->cvae) (0.1.8)\r\n",
      "Requirement already satisfied: gast==0.2.2 in /shared/ds/apps/anaconda3/envs/nv_tf_gpu/lib/python3.7/site-packages (from tensorflow<2,>=1->cvae) (0.2.2)\r\n",
      "Requirement already satisfied: absl-py>=0.7.0 in /shared/ds/apps/anaconda3/envs/nv_tf_gpu/lib/python3.7/site-packages (from tensorflow<2,>=1->cvae) (0.8.1)\r\n",
      "Requirement already satisfied: h5py<=2.10.0 in /shared/ds/apps/anaconda3/envs/nv_tf_gpu/lib/python3.7/site-packages (from tensorflow<2,>=1->cvae) (2.8.0)\r\n",
      "Requirement already satisfied: keras-preprocessing>=1.0.5 in /shared/ds/apps/anaconda3/envs/nv_tf_gpu/lib/python3.7/site-packages (from tensorflow<2,>=1->cvae) (1.1.0)\r\n",
      "Collecting tensorflow-estimator==1.15.1\r\n",
      "  Downloading tensorflow_estimator-1.15.1-py2.py3-none-any.whl (503 kB)\r\n",
      "\u001B[K     |████████████████████████████████| 503 kB 104.0 MB/s eta 0:00:01\r\n",
      "\u001B[?25hRequirement already satisfied: protobuf>=3.6.1 in /shared/ds/apps/anaconda3/envs/nv_tf_gpu/lib/python3.7/site-packages (from tensorflow<2,>=1->cvae) (3.14.0)\r\n",
      "Requirement already satisfied: setuptools in /shared/ds/apps/anaconda3/envs/nv_tf_gpu/lib/python3.7/site-packages (from kiwisolver>=1.0.1->matplotlib->cvae) (45.1.0.post20200127)\r\n",
      "Requirement already satisfied: markdown>=2.6.8 in /shared/ds/apps/anaconda3/envs/nv_tf_gpu/lib/python3.7/site-packages (from tensorboard<1.16.0,>=1.15.0->tensorflow<2,>=1->cvae) (3.1.1)\r\n",
      "Requirement already satisfied: werkzeug>=0.11.15 in /home/u796762/.local/lib/python3.7/site-packages (from tensorboard<1.16.0,>=1.15.0->tensorflow<2,>=1->cvae) (0.15.0)\r\n",
      "\u001B[31mERROR: predphen 0.1.1 has requirement opencv-python==3.4.2.*, but you'll have opencv-python 4.5.1.48 which is incompatible.\u001B[0m\r\n",
      "\u001B[31mERROR: predphen 0.1.1 has requirement tensorflow==2.0.0, but you'll have tensorflow 1.15.5 which is incompatible.\u001B[0m\r\n",
      "Installing collected packages: tensorboard, tensorflow-estimator, tensorflow, cvae\r\n",
      "  Attempting uninstall: tensorboard\r\n",
      "    Found existing installation: tensorboard 2.0.0\r\n",
      "    Uninstalling tensorboard-2.0.0:\r\n",
      "      Successfully uninstalled tensorboard-2.0.0\r\n",
      "  Attempting uninstall: tensorflow-estimator\r\n",
      "    Found existing installation: tensorflow-estimator 2.0.0\r\n",
      "    Uninstalling tensorflow-estimator-2.0.0:\r\n",
      "      Successfully uninstalled tensorflow-estimator-2.0.0\r\n",
      "  Attempting uninstall: tensorflow\r\n",
      "    Found existing installation: tensorflow 2.0.0\r\n",
      "    Uninstalling tensorflow-2.0.0:\r\n",
      "      Successfully uninstalled tensorflow-2.0.0\r\n",
      "Successfully installed cvae-0.0.3 tensorboard-1.15.0 tensorflow-1.15.5 tensorflow-estimator-1.15.1\r\n"
     ]
    }
   ],
   "source": [
    "!pip install cvae"
   ]
  },
  {
   "cell_type": "code",
   "execution_count": null,
   "outputs": [],
   "source": [],
   "metadata": {
    "collapsed": false,
    "pycharm": {
     "name": "#%%\n"
    }
   }
  }
 ],
 "metadata": {
  "kernelspec": {
   "name": "_tf2.4",
   "language": "python",
   "display_name": "_tf2.4"
  },
  "language_info": {
   "codemirror_mode": {
    "name": "ipython",
    "version": 2
   },
   "file_extension": ".py",
   "mimetype": "text/x-python",
   "name": "python",
   "nbconvert_exporter": "python",
   "pygments_lexer": "ipython2",
   "version": "2.7.6"
  }
 },
 "nbformat": 4,
 "nbformat_minor": 0
}